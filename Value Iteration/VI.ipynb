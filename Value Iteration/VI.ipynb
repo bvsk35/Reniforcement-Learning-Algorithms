{
 "cells": [
  {
   "cell_type": "markdown",
   "metadata": {},
   "source": [
    "# Value Iteration on Frozen Lake game\n",
    "## Import required libraries"
   ]
  },
  {
   "cell_type": "code",
   "execution_count": 1,
   "metadata": {},
   "outputs": [],
   "source": [
    "'''\n",
    "These libraries are related with OpenAI Gym and Frozen Lake enviornment.\n",
    "'''\n",
    "import gym\n",
    "from gym.envs.registration import register\n",
    "from gym.envs.toy_text.frozen_lake import LEFT, RIGHT, DOWN, UP"
   ]
  },
  {
   "cell_type": "code",
   "execution_count": 2,
   "metadata": {},
   "outputs": [],
   "source": [
    "'''\n",
    "These libraries are related with algebraic calculations and plotting. \n",
    "'''\n",
    "%matplotlib inline\n",
    "import seaborn\n",
    "import matplotlib.pyplot as plt\n",
    "import numpy as np\n",
    "import numpy.linalg as LA\n",
    "import time\n",
    "from tabulate import tabulate"
   ]
  },
  {
   "cell_type": "markdown",
   "metadata": {},
   "source": [
    "## Initialize the Froze Lake env \n",
    "### Code Parameters \n",
    "* Size of the world: It is a grid world with `4 x 4` grid size.\n",
    "* The discount factor, $\\gamma$ has been set to 0.9.\n",
    "* The environment is slippery, i.e., the transition kernel is stochastic"
   ]
  },
  {
   "cell_type": "code",
   "execution_count": 3,
   "metadata": {},
   "outputs": [],
   "source": [
    "register(\n",
    "    id='D4x4-FrozenLake-v0',\n",
    "    entry_point='gym.envs.toy_text.frozen_lake:FrozenLakeEnv',\n",
    "    kwargs={'map_name': '4x4',\n",
    "            'is_slippery': True})\n",
    "env = gym.make('D4x4-FrozenLake-v0')\n",
    "gamma=0.9\n",
    "action_names = {LEFT: 'LEFT', RIGHT: 'RIGHT', DOWN: 'DOWN', UP: 'UP'}"
   ]
  },
  {
   "cell_type": "markdown",
   "metadata": {},
   "source": [
    "## The Environment\n",
    "* The environment consists of 16 states. \n",
    "    * `env.nS`: count of state variable of data type int.\n",
    "* The agent can take 4 actions. \n",
    "    * `env.nA`: count of action variable of data type int.\n",
    "* The transition kernel `P` is a dictionary. \n",
    "* `P[state][action]` is a tuple. \n",
    "    * `P[state][action] = [probability, nextstate, reward, terminal]`.\n",
    "* For more information check here [link](https://gym.openai.com/envs/FrozenLake-v0/). "
   ]
  },
  {
   "cell_type": "code",
   "execution_count": 4,
   "metadata": {},
   "outputs": [
    {
     "name": "stdout",
     "output_type": "stream",
     "text": [
      "Number of Actions 4\n",
      "Number of States  16\n",
      "P[5,0] [(1.0, 5, 0, True)]\n"
     ]
    }
   ],
   "source": [
    "'''\n",
    "Print the total no. of states and actions in this env.\n",
    "'''\n",
    "print('Number of Actions', env.nA) \n",
    "print('Number of States ', env.nS)\n",
    "print('P[5,0]', env.P[5][0])"
   ]
  },
  {
   "cell_type": "markdown",
   "metadata": {},
   "source": [
    "# Generating a Heatmap \n",
    "* Pass the optimal value function and policy to the function `fancy_visual` to obtain a heat map.\n",
    "* This function also prints the value function and policy. Hence you do not have to print it. "
   ]
  },
  {
   "cell_type": "code",
   "execution_count": 5,
   "metadata": {},
   "outputs": [],
   "source": [
    "def fancy_visual(value_func,policy_int):    \n",
    "    grid = 4\n",
    "    f, ax = plt.subplots(figsize=(11, 9))\n",
    "    cmap = seaborn.diverging_palette(220, 10, as_cmap=True)\n",
    "    reshaped=np.reshape(value_func,(grid,grid))\n",
    "    seaborn.heatmap(reshaped, cmap=cmap, vmax=1.1,\n",
    "                square=True, xticklabels=grid+1, yticklabels=grid+1,\n",
    "                linewidths=.5, cbar_kws={\"shrink\": .5}, ax=ax, annot=True, fmt=\"f\")\n",
    "    counter=0\n",
    "    for j in range(0, 4):\n",
    "        for i in range(0, 4):\n",
    "            if policy_int[counter]==1:\n",
    "                plt.text(i+0.5, j+0.7, u'\\u2193', fontsize=12)\n",
    "            elif policy_int[counter]==3:\n",
    "                plt.text(i+0.5, j+0.7, u'\\u2191', fontsize=12)\n",
    "            elif policy_int[counter]==0:\n",
    "                plt.text(i+0.5, j+0.7, u'\\u2190', fontsize=12)\n",
    "            else:\n",
    "                plt.text(i+0.5, j+0.7, u'\\u2192', fontsize=12)\n",
    "            counter=counter+1\n",
    "\n",
    "    plt.title('Heatmap of policy iteration with value function values and directions')\n",
    "    print('Value Function',value_func)\n",
    "    print('Policy',policy_int)\n",
    "    plt.show()"
   ]
  },
  {
   "cell_type": "markdown",
   "metadata": {},
   "source": [
    "# Value Iteration\n",
    "## Define important functions\n",
    "Functions have been written based on the pseudo code provided in the Sutton-Barto Chapter 4 and Section 4.4 Value Iteration. All the equations have been taken from that textbook.\n",
    "* `value_function_to_policy`: Function which computes the optimal policy in greedy manner based on the optimal input value function.\n",
    "* `value_function_to_Qvalues`: Function which computes the optimal Q-values based on the optimal input value function.\n",
    "* `value_iteration`: Function for doing the value iteration. \n",
    "* `print_policy`: Helper function to print the optimal policy followed by the agent. \n",
    "* `run_policy`: Function for running our trained policy on the game see how it performs. \n",
    "\n",
    "### Definitions\n",
    "* `value_func_sa`: value function for given state and action taken by following the policy.\n",
    "* `max_value_func_sa`: value function for given state and action taken by following the policy such that it is maximized.\n",
    "* `a`: current action\n",
    "* `max_a`: action corresponding to the maximum value function.\n",
    "* `q_values`: Q-values\n",
    "* `delta`: parameter to measure the convergence. Refer the Sutton-Barto textbook."
   ]
  },
  {
   "cell_type": "code",
   "execution_count": 6,
   "metadata": {},
   "outputs": [],
   "source": [
    "def value_function_to_policy(env, gamma, value_function):\n",
    "    \"\"\"\n",
    "    Output action numbers for each state in value_function.\n",
    "    Parameters\n",
    "    ----------\n",
    "    env: gym.core.Environment\n",
    "      Environment to compute policy for. Must have nS, nA, and P as\n",
    "      attributes.\n",
    "    gamma: float\n",
    "      Discount factor. Number in range [0, 1)\n",
    "    value_function: np.ndarray\n",
    "      Value of each state.\n",
    "    Returns\n",
    "    -------\n",
    "    np.ndarray\n",
    "      An array of integers. Each integer is the optimal action to take\n",
    "      in that state according to the environment dynamics and the\n",
    "      given value function.\n",
    "    \"\"\"\n",
    "    policy = np.zeros(env.nS, dtype='int')\n",
    "    for s in range(env.nS):\n",
    "        max_value_func_sa = -1\n",
    "        max_a = -1\n",
    "        for a in range(env.nA):\n",
    "            value_func_sa = 0\n",
    "            for possible_next_state in env.P[s][a]:\n",
    "                prob_action = possible_next_state[0]\n",
    "                cur_reward = possible_next_state[2]\n",
    "                future_reward = gamma * value_function[possible_next_state[1]]\n",
    "                value_func_sa += prob_action * (cur_reward + future_reward)\n",
    "            if value_func_sa > max_value_func_sa:\n",
    "                max_value_func_sa = value_func_sa\n",
    "                max_a = a\n",
    "        policy[s] = max_a\n",
    "    return policy\n",
    "\n",
    "def value_function_to_Qvalues(env, gamma, value_function):\n",
    "    \"\"\"\n",
    "    Output optimal Q value for each state action pair in env.\n",
    "    Parameters\n",
    "    ----------\n",
    "    env: gym.core.Environment\n",
    "      Environment to compute policy for. Must have nS, nA, and P as\n",
    "      attributes.\n",
    "    gamma: float\n",
    "      Discount factor. Number in range [0, 1)\n",
    "    value_function: np.ndarray\n",
    "      Value of each state.\n",
    "    Returns\n",
    "    -------\n",
    "    np.ndarray\n",
    "      An matirx (2D array) of optimal Q-values.\n",
    "    \"\"\"\n",
    "    q_values = np.zeros((env.nS, env.nA))\n",
    "    for s in range(env.nS):\n",
    "        for a in range(env.nA):\n",
    "            q_values[s][a] = 0\n",
    "            for possible_next_state in env.P[s][a]:\n",
    "                prob_action = possible_next_state[0]\n",
    "                cur_reward = possible_next_state[2]\n",
    "                future_reward = gamma * value_function[possible_next_state[1]]\n",
    "                q_values[s][a] += prob_action * (cur_reward + future_reward)\n",
    "    return q_values\n",
    "\n",
    "def value_iteration(env, gamma, max_iterations=int(1e3), tol=1e-10):\n",
    "    \"\"\"\n",
    "    Runs value iteration for a given gamma and environment.\n",
    "    Parameters\n",
    "    ----------\n",
    "    env: gym.core.Environment\n",
    "      The environment to compute value iteration for. Must have nS,\n",
    "      nA, and P as attributes.\n",
    "    gamma: float\n",
    "      Discount factor, must be in range [0, 1)\n",
    "    max_iterations: int\n",
    "      The maximum number of iterations to run before stopping.\n",
    "    tol: float\n",
    "      Determines when value function has converged.\n",
    "    Returns\n",
    "    -------\n",
    "    np.ndarray, iteration\n",
    "      The value function and the number of iterations it took to converge.\n",
    "    \"\"\"\n",
    "    value_func_old = np.random.rand(env.nS)\n",
    "    value_func_new = np.zeros(env.nS)\n",
    "    diff_arr = []\n",
    "    for iteration in range(max_iterations):\n",
    "        delta = 0\n",
    "        for s in range(env.nS):\n",
    "            max_value_func_sa = -1\n",
    "            for a in range(env.nA):\n",
    "                value_func_sa = 0\n",
    "                for possible_next_state in env.P[s][a]:\n",
    "                    prob_action = possible_next_state[0]\n",
    "                    cur_reward=possible_next_state[2]\n",
    "                    future_reward = gamma * value_func_old[possible_next_state[1]]\n",
    "                    value_func_sa += prob_action * (cur_reward + future_reward)\n",
    "                if value_func_sa > max_value_func_sa:\n",
    "                    max_value_func_sa = value_func_sa\n",
    "            diff = np.abs(value_func_old[s] - max_value_func_sa)\n",
    "            delta = max(delta, diff)\n",
    "            value_func_new[s] = max_value_func_sa\n",
    "        if delta <= tol: \n",
    "            break\n",
    "        sq_diff = LA.norm(value_func_new - value_func_old)\n",
    "        diff_arr.append(sq_diff)\n",
    "        value_func_old = value_func_new\n",
    "    return value_func_new, iteration, diff_arr\n",
    "\n",
    "\n",
    "def print_policy(policy, action_names):\n",
    "    \"\"\"\n",
    "    Print the policy in human-readable format.\n",
    "    Parameters\n",
    "    ----------\n",
    "    policy: np.ndarray\n",
    "      Array of state to action number mappings\n",
    "    action_names: dict\n",
    "      Mapping of action numbers to characters representing the action.\n",
    "    \"\"\"\n",
    "    str_policy = policy.astype('str')\n",
    "    for action_num, action_name in action_names.items():\n",
    "        np.place(str_policy, policy == action_num, action_name)\n",
    "    print(str_policy)\n",
    "    return str_policy\n",
    "\n",
    "def run_policy(env, gamma, policy):\n",
    "    initial_state = env.reset()\n",
    "    total_reward = 0\n",
    "    num_steps = 0\n",
    "    current_state = initial_state\n",
    "    while True:\n",
    "        nextstate, reward, is_terminal, debug_info = env.step(policy[current_state])\n",
    "        total_reward += np.power(gamma, num_steps) * reward\n",
    "        num_steps += 1\n",
    "        if is_terminal:\n",
    "            break\n",
    "        current_state = nextstate\n",
    "    return total_reward, num_steps"
   ]
  },
  {
   "cell_type": "markdown",
   "metadata": {},
   "source": [
    "## Run Value Iteration\n",
    "* Start the Value iteration and time it to measure the performance. "
   ]
  },
  {
   "cell_type": "code",
   "execution_count": 7,
   "metadata": {},
   "outputs": [
    {
     "name": "stdout",
     "output_type": "stream",
     "text": [
      "Executing Value Iteration\n",
      "Total time taken: 0.06969928741455078\n",
      "Total Value Iteration Steps: 191\n"
     ]
    }
   ],
   "source": [
    "print(\"Executing Value Iteration\")\n",
    "start_time=time.time()\n",
    "value_function, value_iters, error = value_iteration(env, gamma)\n",
    "print(\"Total time taken: \" + str((time.time()-start_time)))\n",
    "print(\"Total Value Iteration Steps: \" + str(value_iters)) "
   ]
  },
  {
   "cell_type": "markdown",
   "metadata": {},
   "source": [
    "## Rate of convergence\n",
    "* We convergence performance of the value iteration by measuring following qunatity $\\lVert V_{k+1} - V_{k} \\rVert_{2}$ and see how it changes with total number of iterations.\n",
    "* Tolerance which is the termination criteria for the code tells us how close should $V_{k+1}$ and  $V_{k}$ should be. By default the tolerance value has been set to 1e-10 i.e, we want the values to be very tight, and we achieve this tolerance in less than 200 iterations. "
   ]
  },
  {
   "cell_type": "code",
   "execution_count": 8,
   "metadata": {},
   "outputs": [
    {
     "data": {
      "image/png": "[encoded data removed]",
      "text/plain": [
       "<Figure size 576x432 with 1 Axes>"
      ]
     },
     "metadata": {
      "needs_background": "light"
     },
     "output_type": "display_data"
    }
   ],
   "source": [
    "plt.figure(figsize=(8, 6))\n",
    "plt.plot(np.arange(value_iters), error)\n",
    "plt.xlabel(r'Number of iterations $\\rightarrow$')\n",
    "plt.ylabel(r'$\\vert\\vert V_{k+1} - V_{k}\\vert\\vert_{2} \\rightarrow$')\n",
    "plt.title(r'Convergence of the value iteration with respect to iterations')\n",
    "plt.show()"
   ]
  },
  {
   "cell_type": "markdown",
   "metadata": {},
   "source": [
    "## Optimal Value function and Optimal Q-values"
   ]
  },
  {
   "cell_type": "code",
   "execution_count": 9,
   "metadata": {},
   "outputs": [
    {
     "name": "stdout",
     "output_type": "stream",
     "text": [
      "Optimal value function is:\n",
      "[6.88909050e-02 6.14145717e-02 7.44097623e-02 5.58073218e-02\n",
      " 9.18545400e-02 1.74094334e-10 1.12208207e-01 8.86645034e-10\n",
      " 1.45436355e-01 2.47496955e-01 2.99617593e-01 3.70784207e-11\n",
      " 2.04739640e-10 3.79935901e-01 6.39020148e-01 1.66046515e-10]\n",
      "\n",
      "\n",
      "Optimal Q-values are:\n",
      "[[6.88909050e-02 6.66480050e-02 6.66480050e-02 5.97589145e-02]\n",
      " [3.90916431e-02 4.29902003e-02 4.07473003e-02 6.14145717e-02]\n",
      " [7.44097623e-02 6.88290301e-02 7.27275873e-02 5.74894968e-02]\n",
      " [3.90651255e-02 3.90651255e-02 3.34843933e-02 5.58073218e-02]\n",
      " [9.18545400e-02 7.11872685e-02 6.42981780e-02 4.82236336e-02]\n",
      " [1.56684901e-10 1.56684901e-10 1.56684901e-10 1.56684901e-10]\n",
      " [1.12208207e-01 8.98852782e-02 1.12208207e-01 2.23229290e-02]\n",
      " [7.97980531e-10 7.97980531e-10 7.97980531e-10 7.97980531e-10]\n",
      " [7.11872685e-02 1.17879993e-01 1.01805448e-01 1.45436355e-01]\n",
      " [1.57611677e-01 2.47496955e-01 2.03866048e-01 1.33516184e-01]\n",
      " [2.99617593e-01 2.65955131e-01 2.25368507e-01 1.07911549e-01]\n",
      " [3.33705786e-11 3.33705786e-11 3.33705786e-11 3.33705786e-11]\n",
      " [1.84265676e-10 1.84265676e-10 1.84265676e-10 1.84265676e-10]\n",
      " [1.88229857e-01 3.05686815e-01 3.79935901e-01 2.65955131e-01]\n",
      " [3.95572093e-01 6.39020148e-01 6.14924656e-01 5.37199382e-01]\n",
      " [1.49441863e-10 1.49441863e-10 1.49441863e-10 1.49441863e-10]]\n"
     ]
    }
   ],
   "source": [
    "print('Optimal value function is:')\n",
    "print(value_function)\n",
    "print('\\n')\n",
    "q_val = value_function_to_Qvalues(env, gamma, value_function)\n",
    "print('Optimal Q-values are:')\n",
    "print(q_val)"
   ]
  },
  {
   "cell_type": "markdown",
   "metadata": {},
   "source": [
    "## Optimal Policy\n",
    "* Print the optimal policy which tells the agents what action take based on the current position of the game and optimal value function. \n",
    "* We will aslo plot the output in fancy manner to get more better idea. "
   ]
  },
  {
   "cell_type": "code",
   "execution_count": 10,
   "metadata": {},
   "outputs": [
    {
     "name": "stdout",
     "output_type": "stream",
     "text": [
      "Policy:\n",
      "['LEFT' 'UP' 'LEFT' 'UP' 'LEFT' 'LEFT' 'RIGHT' 'LEFT' 'UP' 'DOWN' 'LEFT'\n",
      " 'LEFT' 'LEFT' 'RIGHT' 'DOWN' 'LEFT']\n"
     ]
    }
   ],
   "source": [
    "# Print the policy\n",
    "print(\"Policy:\") \n",
    "policy = value_function_to_policy(env, gamma, value_function)\n",
    "policy_str = print_policy(policy, action_names)"
   ]
  },
  {
   "cell_type": "code",
   "execution_count": 11,
   "metadata": {},
   "outputs": [
    {
     "name": "stdout",
     "output_type": "stream",
     "text": [
      "Value Function [6.88909050e-02 6.14145717e-02 7.44097623e-02 5.58073218e-02\n",
      " 9.18545400e-02 1.74094334e-10 1.12208207e-01 8.86645034e-10\n",
      " 1.45436355e-01 2.47496955e-01 2.99617593e-01 3.70784207e-11\n",
      " 2.04739640e-10 3.79935901e-01 6.39020148e-01 1.66046515e-10]\n",
      "Policy [0 3 0 3 0 0 2 0 3 1 0 0 0 2 1 0]\n"
     ]
    },
    {
     "data": {
      "image/png": "[encoded data removed]",
      "text/plain": [
       "<Figure size 792x648 with 2 Axes>"
      ]
     },
     "metadata": {
      "needs_background": "light"
     },
     "output_type": "display_data"
    }
   ],
   "source": [
    "# Plot the policy\n",
    "fancy_visual(value_function, policy)"
   ]
  },
  {
   "cell_type": "code",
   "execution_count": 12,
   "metadata": {},
   "outputs": [
    {
     "name": "stdout",
     "output_type": "stream",
     "text": [
      "Above policy can also be expressed in a tabular form as follows:\n",
      "-  -  -  -\n",
      "L  U  L  U\n",
      "L  L  R  L\n",
      "U  D  L  L\n",
      "L  R  D  L\n",
      "-  -  -  -\n"
     ]
    }
   ],
   "source": [
    "# Plot\n",
    "ps=[]\n",
    "for elem in policy_str:\n",
    "    ps.append(elem[0])\n",
    "reshaped_policy=np.reshape(ps,(4,4))\n",
    "# print(tabulate(reshaped_policy,tablefmt='latex'))\n",
    "print('Above policy can also be expressed in a tabular form as follows:')\n",
    "print(tabulate(reshaped_policy))"
   ]
  },
  {
   "cell_type": "markdown",
   "metadata": {},
   "source": [
    "## Performance measure"
   ]
  },
  {
   "cell_type": "code",
   "execution_count": 13,
   "metadata": {},
   "outputs": [
    {
     "name": "stdout",
     "output_type": "stream",
     "text": [
      "Done 0\n",
      "Done 1\n",
      "Done 2\n",
      "Done 3\n",
      "Done 4\n",
      "Time: 0.0003174146016438802\n",
      "No. of steps for the last run: 37\n",
      "Performance of the agent over 5 episodes\n",
      "Average Cumulative Reward: 0.01682491014970692\n"
     ]
    }
   ],
   "source": [
    "total_cum_reward=0\n",
    "maxn = 5\n",
    "start_time=time.time()\n",
    "for n in range(maxn):\n",
    "    cum_reward, nsteps = run_policy(env, gamma, policy)\n",
    "    total_cum_reward += cum_reward\n",
    "    if n%1 == 0: \n",
    "        print(\"Done \" + str(n)) \n",
    "print(\"Time: \" + str((time.time()-start_time)/60))\n",
    "print(\"No. of steps for the last run: \" + str(nsteps)) \n",
    "print(\"Performance of the agent over \" + str(maxn) + \" episodes\")\n",
    "print(\"Average Cumulative Reward: \" + str((total_cum_reward/maxn))) "
   ]
  }
 ],
 "metadata": {
  "kernelspec": {
   "display_name": "Python 3",
   "language": "python",
   "name": "python3"
  },
  "language_info": {
   "codemirror_mode": {
    "name": "ipython",
    "version": 3
   },
   "file_extension": ".py",
   "mimetype": "text/x-python",
   "name": "python",
   "nbconvert_exporter": "python",
   "pygments_lexer": "ipython3",
   "version": "3.7.3"
  }
 },
 "nbformat": 4,
 "nbformat_minor": 2
}
